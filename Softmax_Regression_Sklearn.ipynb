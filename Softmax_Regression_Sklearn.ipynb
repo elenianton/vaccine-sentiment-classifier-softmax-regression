{
  "nbformat": 4,
  "nbformat_minor": 0,
  "metadata": {
    "accelerator": "GPU",
    "colab": {
      "name": "Final_Antonakaki.ipynb",
      "provenance": [],
      "collapsed_sections": []
    },
    "kernelspec": {
      "display_name": "Python 3",
      "name": "python3"
    },
    "language_info": {
      "name": "python"
    }
  },
  "cells": [
    {
      "cell_type": "code",
      "metadata": {
        "id": "-dAEMI9DP4V7"
      },
      "source": [
        "import os\n",
        "import re\n",
        "import random\n",
        "import nltk\n",
        "import numpy as np\n",
        "import pandas as pd\n",
        "import seaborn as sns\n",
        "import csv\n",
        "import pickle\n",
        "from sklearn.utils import shuffle\n",
        "from nltk.corpus import stopwords\n",
        "from nltk.collections import Counter\n",
        "from scipy.sparse import csr_matrix\n",
        "from sklearn import metrics\n",
        "from sklearn.preprocessing import LabelEncoder\n",
        "from sklearn.linear_model import LogisticRegression\n",
        "from sklearn.feature_extraction.text import CountVectorizer\n",
        "from sklearn.metrics import classification_report\n",
        "from nltk.stem import PorterStemmer\n",
        "from nltk.stem import LancasterStemmer\n",
        "from nltk import WordNetLemmatizer\n",
        "import matplotlib.pyplot as plt\n",
        "from sklearn.model_selection import learning_curve\n",
        "from sklearn.metrics import plot_confusion_matrix\n",
        "from sklearn.metrics import confusion_matrix"
      ],
      "execution_count": 1,
      "outputs": []
    },
    {
      "cell_type": "markdown",
      "metadata": {
        "id": "YqXQICLeSkw_"
      },
      "source": [
        "**1. Load the given dataset**"
      ]
    },
    {
      "cell_type": "code",
      "metadata": {
        "colab": {
          "base_uri": "https://localhost:8080/",
          "height": 258
        },
        "id": "Ijp3lBauSiXI",
        "outputId": "ba95e4fb-71d9-477d-b353-737790999de3"
      },
      "source": [
        "corpus_path = os.path.abspath('/content/vaccine_train_set.csv')\n",
        "print(\"Uploading dataset...\")\n",
        "data_df = pd.read_csv(corpus_path,header= None, names =[\"Tweet\", \"Label\"])\n",
        "print(\"Creating Pandas Dataframe...\")\n",
        "print(\"Dataframe is ready!\")\n",
        "class_names = [0,1,2]\n",
        "\n",
        "\n",
        "data_df.head()"
      ],
      "execution_count": 2,
      "outputs": [
        {
          "output_type": "stream",
          "name": "stdout",
          "text": [
            "Uploading dataset...\n",
            "Creating Pandas Dataframe...\n",
            "Dataframe is ready!\n"
          ]
        },
        {
          "output_type": "execute_result",
          "data": {
            "text/html": [
              "<div>\n",
              "<style scoped>\n",
              "    .dataframe tbody tr th:only-of-type {\n",
              "        vertical-align: middle;\n",
              "    }\n",
              "\n",
              "    .dataframe tbody tr th {\n",
              "        vertical-align: top;\n",
              "    }\n",
              "\n",
              "    .dataframe thead th {\n",
              "        text-align: right;\n",
              "    }\n",
              "</style>\n",
              "<table border=\"1\" class=\"dataframe\">\n",
              "  <thead>\n",
              "    <tr style=\"text-align: right;\">\n",
              "      <th></th>\n",
              "      <th>Tweet</th>\n",
              "      <th>Label</th>\n",
              "    </tr>\n",
              "  </thead>\n",
              "  <tbody>\n",
              "    <tr>\n",
              "      <th>NaN</th>\n",
              "      <td>tweet</td>\n",
              "      <td>label</td>\n",
              "    </tr>\n",
              "    <tr>\n",
              "      <th>0.0</th>\n",
              "      <td>Sip N Shop Come thru right now #Marjais #Popul...</td>\n",
              "      <td>0</td>\n",
              "    </tr>\n",
              "    <tr>\n",
              "      <th>1.0</th>\n",
              "      <td>I don't know about you but My family and I wil...</td>\n",
              "      <td>1</td>\n",
              "    </tr>\n",
              "    <tr>\n",
              "      <th>2.0</th>\n",
              "      <td>@MSignorile Immunizations should be mandatory....</td>\n",
              "      <td>2</td>\n",
              "    </tr>\n",
              "    <tr>\n",
              "      <th>3.0</th>\n",
              "      <td>President Obama spoke in favor of vaccination ...</td>\n",
              "      <td>0</td>\n",
              "    </tr>\n",
              "  </tbody>\n",
              "</table>\n",
              "</div>"
            ],
            "text/plain": [
              "                                                 Tweet  Label\n",
              "NaN                                              tweet  label\n",
              "0.0  Sip N Shop Come thru right now #Marjais #Popul...      0\n",
              "1.0  I don't know about you but My family and I wil...      1\n",
              "2.0  @MSignorile Immunizations should be mandatory....      2\n",
              "3.0  President Obama spoke in favor of vaccination ...      0"
            ]
          },
          "metadata": {},
          "execution_count": 2
        }
      ]
    },
    {
      "cell_type": "code",
      "metadata": {
        "colab": {
          "base_uri": "https://localhost:8080/"
        },
        "id": "ftlB-MATc3yF",
        "outputId": "99e1e34f-c0a3-4117-90c5-4c81a7e757c2"
      },
      "source": [
        "#download nltk modules (for google colab)\n",
        "nltk.download('punkt')\n",
        "nltk.download('stopwords')\n",
        "nltk.download('averaged_perceptron_tagger')\n",
        "nltk.download('universal_tagset')\n",
        "nltk.download('wordnet')"
      ],
      "execution_count": 3,
      "outputs": [
        {
          "output_type": "stream",
          "name": "stdout",
          "text": [
            "[nltk_data] Downloading package punkt to /root/nltk_data...\n",
            "[nltk_data]   Unzipping tokenizers/punkt.zip.\n",
            "[nltk_data] Downloading package stopwords to /root/nltk_data...\n",
            "[nltk_data]   Unzipping corpora/stopwords.zip.\n",
            "[nltk_data] Downloading package averaged_perceptron_tagger to\n",
            "[nltk_data]     /root/nltk_data...\n",
            "[nltk_data]   Unzipping taggers/averaged_perceptron_tagger.zip.\n",
            "[nltk_data] Downloading package universal_tagset to /root/nltk_data...\n",
            "[nltk_data]   Unzipping taggers/universal_tagset.zip.\n",
            "[nltk_data] Downloading package wordnet to /root/nltk_data...\n",
            "[nltk_data]   Unzipping corpora/wordnet.zip.\n"
          ]
        },
        {
          "output_type": "execute_result",
          "data": {
            "text/plain": [
              "True"
            ]
          },
          "metadata": {},
          "execution_count": 3
        }
      ]
    },
    {
      "cell_type": "markdown",
      "metadata": {
        "id": "GH6vRyMVVj3I"
      },
      "source": [
        "**2. Preprocess the text**"
      ]
    },
    {
      "cell_type": "markdown",
      "metadata": {
        "id": "VlOUkWy8Z0b8"
      },
      "source": [
        "\n",
        "\n",
        "1.   Remove tags\n",
        "2.   Remove characters\n",
        "3.   Remove emoticons (for Twitter dataset)\n",
        "4.   Lowercasing text\n",
        "5.   Remove numbers (worthless objects)\n",
        "6.   Remove stopwords\n",
        "\n",
        "\n"
      ]
    },
    {
      "cell_type": "code",
      "metadata": {
        "colab": {
          "base_uri": "https://localhost:8080/",
          "height": 241
        },
        "id": "4GV2bVSYSia0",
        "outputId": "46210b6d-1c9d-46db-d698-951d3cccc5db"
      },
      "source": [
        "# Fill the NaN values with \"NULL\"\n",
        "data_df.fillna('NULL', inplace=True)\n",
        "\n",
        "stop_words = set(stopwords.words('english'))\n",
        "\n",
        "def preprocess_text(text):\n",
        "                \n",
        "        TAG_RE = re.compile(r'<[^>]+>_-@')\n",
        "        no_tags = TAG_RE.sub('',text) \n",
        "        text = re.sub('<[^>]*>_@-', '', no_tags)        \n",
        "        text = re.sub('_','',text) \n",
        "        emoticons = re.findall('(?::|;|=)(?:-)?(?:\\)|\\(|D|P)', text)\n",
        "        text = re.sub('[\\W]+', ' ', text.lower()) + \" \".join(emoticons).replace('-', '')\n",
        "        text = re.sub(r'\\d+', '', text)\n",
        "\n",
        "        return text\n",
        "\n",
        "def remove_stopwords(text):\n",
        "\n",
        "    text = nltk.word_tokenize(text)\n",
        "    text = [w for w in text if not w in stop_words]\n",
        "    text= ' '.join(text)\n",
        "      \n",
        "    return text\n",
        "\n",
        "\n",
        "stemmer=PorterStemmer()\n",
        "#stemmer=LancasterStemmer()\n",
        "\n",
        "def stemming_tokenizer(str_input):\n",
        "\n",
        "     words = re.sub(r\"[^A-Za-z0-9\\-]\", \" \", str_input).lower().split()\n",
        "     words = [porter_stemmer.stem(word) for word in words]\n",
        "     words.reshape(-1,1)\n",
        "\n",
        "     return words\n",
        " \n",
        "\n",
        "data_df['Tweet']=data_df['Tweet'].apply(preprocess_text)\n",
        "print(\"Processing is ready!!\")\n",
        "\n",
        "data_df['Tweet']=data_df['Tweet'].apply(remove_stopwords)\n",
        "print(\"Stopwords are removed!!\")\n",
        "text= data_df['Tweet']\n",
        "\n",
        "data_df.head()\n"
      ],
      "execution_count": 4,
      "outputs": [
        {
          "output_type": "stream",
          "name": "stdout",
          "text": [
            "Processing is ready!!\n",
            "Stopwords are removed!!\n"
          ]
        },
        {
          "output_type": "execute_result",
          "data": {
            "text/html": [
              "<div>\n",
              "<style scoped>\n",
              "    .dataframe tbody tr th:only-of-type {\n",
              "        vertical-align: middle;\n",
              "    }\n",
              "\n",
              "    .dataframe tbody tr th {\n",
              "        vertical-align: top;\n",
              "    }\n",
              "\n",
              "    .dataframe thead th {\n",
              "        text-align: right;\n",
              "    }\n",
              "</style>\n",
              "<table border=\"1\" class=\"dataframe\">\n",
              "  <thead>\n",
              "    <tr style=\"text-align: right;\">\n",
              "      <th></th>\n",
              "      <th>Tweet</th>\n",
              "      <th>Label</th>\n",
              "    </tr>\n",
              "  </thead>\n",
              "  <tbody>\n",
              "    <tr>\n",
              "      <th>NaN</th>\n",
              "      <td>tweet</td>\n",
              "      <td>label</td>\n",
              "    </tr>\n",
              "    <tr>\n",
              "      <th>0.0</th>\n",
              "      <td>sip n shop come thru right marjais popularnobo...</td>\n",
              "      <td>0</td>\n",
              "    </tr>\n",
              "    <tr>\n",
              "      <th>1.0</th>\n",
              "      <td>know family take covid vaccine anytime soon</td>\n",
              "      <td>1</td>\n",
              "    </tr>\n",
              "    <tr>\n",
              "      <th>2.0</th>\n",
              "      <td>msignorile immunizations mandatory period okla...</td>\n",
              "      <td>2</td>\n",
              "    </tr>\n",
              "    <tr>\n",
              "      <th>3.0</th>\n",
              "      <td>president obama spoke favor vaccination childr...</td>\n",
              "      <td>0</td>\n",
              "    </tr>\n",
              "  </tbody>\n",
              "</table>\n",
              "</div>"
            ],
            "text/plain": [
              "                                                 Tweet  Label\n",
              "NaN                                              tweet  label\n",
              "0.0  sip n shop come thru right marjais popularnobo...      0\n",
              "1.0        know family take covid vaccine anytime soon      1\n",
              "2.0  msignorile immunizations mandatory period okla...      2\n",
              "3.0  president obama spoke favor vaccination childr...      0"
            ]
          },
          "metadata": {},
          "execution_count": 4
        }
      ]
    },
    {
      "cell_type": "code",
      "metadata": {
        "colab": {
          "base_uri": "https://localhost:8080/",
          "height": 297
        },
        "id": "lE41QbX_k6jp",
        "outputId": "de06f387-6884-4a73-e1c3-ed19df866f31"
      },
      "source": [
        "#plot counts of y values (labels)\n",
        "data_df['Label'].value_counts().plot.bar(color = 'pink', figsize = (6, 4))"
      ],
      "execution_count": 5,
      "outputs": [
        {
          "output_type": "execute_result",
          "data": {
            "text/plain": [
              "<matplotlib.axes._subplots.AxesSubplot at 0x7fed71be62d0>"
            ]
          },
          "metadata": {},
          "execution_count": 5
        },
        {
          "output_type": "display_data",
          "data": {
            "image/png": "[encoded data removed]",
            "text/plain": [
              "<Figure size 432x288 with 1 Axes>"
            ]
          },
          "metadata": {
            "needs_background": "light"
          }
        }
      ]
    },
    {
      "cell_type": "markdown",
      "metadata": {
        "id": "lcRip2Bic4VD"
      },
      "source": [
        "**4. Vectorize text data with TF-IDF vectorizer**"
      ]
    },
    {
      "cell_type": "code",
      "metadata": {
        "id": "4AZTBDmvrTEV",
        "colab": {
          "base_uri": "https://localhost:8080/"
        },
        "outputId": "9bf3ac23-a62e-4643-cedb-bcdcd50e2dd8"
      },
      "source": [
        "from nltk.tokenize import RegexpTokenizer\n",
        "from sklearn.feature_extraction.text import CountVectorizer\n",
        "from sklearn.feature_extraction.text import TfidfVectorizer\n",
        "from nltk import word_tokenize          \n",
        "\n",
        "\n",
        "X_train= data_df['Tweet']\n",
        "y_train= data_df['Label']\n",
        "\n",
        "\n",
        "#vectorizer = CountVectorizer(min_df=2)\n",
        "vectorizer = TfidfVectorizer(ngram_range=(1,2))\n",
        "\n",
        "x_train = vectorizer.fit(X_train)\n",
        "x_train = x_train.transform(X_train)\n",
        "print(\"Vectorizing is ready!!\")\n",
        "\n",
        "\n",
        "vectorizer.vocabulary_\n",
        "print(vectorizer.vocabulary_)\n",
        "#vectorizer.get_feature_names()\n",
        "\n",
        "#save tf-idf vectorizer\n",
        "pickle.dump(vectorizer, open('tfidf_vectorizer.p', 'wb'))\n",
        "\n"
      ],
      "execution_count": 6,
      "outputs": [
        {
          "output_type": "stream",
          "name": "stderr",
          "text": [
            "IOPub data rate exceeded.\n",
            "The notebook server will temporarily stop sending output\n",
            "to the client in order to avoid crashing it.\n",
            "To change this limit, set the config variable\n",
            "`--NotebookApp.iopub_data_rate_limit`.\n",
            "\n",
            "Current values:\n",
            "NotebookApp.iopub_data_rate_limit=1000000.0 (bytes/sec)\n",
            "NotebookApp.rate_limit_window=3.0 (secs)\n",
            "\n"
          ]
        }
      ]
    },
    {
      "cell_type": "markdown",
      "metadata": {
        "id": "YlmKUo67mwlm"
      },
      "source": [
        "**5. Train the model using Softmax Regression**"
      ]
    },
    {
      "cell_type": "code",
      "metadata": {
        "colab": {
          "base_uri": "https://localhost:8080/"
        },
        "id": "V3VvrnwuSiiG",
        "outputId": "1cd703fd-c300-4cbd-e15b-2b893a358b5c"
      },
      "source": [
        "def train(matrix,labels):\n",
        "    \n",
        "    softReg = LogisticRegression(multi_class = 'multinomial', solver = 'lbfgs', max_iter=100)\n",
        "    softReg.fit(x_train,y_train)\n",
        "\n",
        "    print('Model is ready!')\n",
        "\n",
        "    softReg.intercept_,softReg.coef_\n",
        "\n",
        "    filename = 'softRegr_model.sav'\n",
        "    pickle.dump(softReg, open(filename, 'wb'))\n",
        " \n",
        "train(x_train,y_train)\n"
      ],
      "execution_count": 7,
      "outputs": [
        {
          "output_type": "stream",
          "name": "stdout",
          "text": [
            "Model is ready!\n"
          ]
        },
        {
          "output_type": "stream",
          "name": "stderr",
          "text": [
            "/usr/local/lib/python3.7/dist-packages/sklearn/linear_model/_logistic.py:818: ConvergenceWarning: lbfgs failed to converge (status=1):\n",
            "STOP: TOTAL NO. of ITERATIONS REACHED LIMIT.\n",
            "\n",
            "Increase the number of iterations (max_iter) or scale the data as shown in:\n",
            "    https://scikit-learn.org/stable/modules/preprocessing.html\n",
            "Please also refer to the documentation for alternative solver options:\n",
            "    https://scikit-learn.org/stable/modules/linear_model.html#logistic-regression\n",
            "  extra_warning_msg=_LOGISTIC_SOLVER_CONVERGENCE_MSG,\n"
          ]
        }
      ]
    },
    {
      "cell_type": "markdown",
      "metadata": {
        "id": "jTu8YI3Yvrn0"
      },
      "source": [
        "**6. SAVE THE MODEL**"
      ]
    },
    {
      "cell_type": "code",
      "metadata": {
        "id": "cD5D4bMx9Kwu",
        "colab": {
          "base_uri": "https://localhost:8080/"
        },
        "outputId": "41a9419b-62c9-4f1c-9fcb-acd189fb7421"
      },
      "source": [
        "filename=\"softRegr_model.sav\"\n",
        "loaded_model = pickle.load(open(filename, 'rb'))\n",
        "print('Model loaded!')"
      ],
      "execution_count": 8,
      "outputs": [
        {
          "output_type": "stream",
          "name": "stdout",
          "text": [
            "Model loaded!\n"
          ]
        }
      ]
    },
    {
      "cell_type": "markdown",
      "metadata": {
        "id": "o2g9_X_r5vnX"
      },
      "source": [
        "**PLOT LEARNING CURVES WITH SKLEARN**"
      ]
    },
    {
      "cell_type": "code",
      "metadata": {
        "id": "3EawnN-F5ujG"
      },
      "source": [
        "def Learning_curve_model(X, Y, model, cv):\n",
        "\n",
        "    plt.figure()\n",
        "    plt.title(\"Learning curve\")\n",
        "    plt.xlabel(\"examples\")\n",
        "    plt.ylabel(\"Score\")\n",
        "\n",
        "\n",
        "    train_sizes, train_scores, test_scores = learning_curve(model, X, Y, cv=cv, n_jobs=4)\n",
        "\n",
        "    train_scores_mean = np.mean(train_scores, axis=1)\n",
        "    train_scores_std  = np.std(train_scores, axis=1)\n",
        "    test_scores_mean  = np.mean(test_scores, axis=1)\n",
        "    test_scores_std   = np.std(test_scores, axis=1)\n",
        "    plt.grid()\n",
        "    \n",
        "    plt.fill_between(train_sizes, train_scores_mean - train_scores_std,train_scores_mean + train_scores_std, alpha=0.1,\n",
        "                     color=\"r\")\n",
        "    plt.fill_between(train_sizes, test_scores_mean - test_scores_std,test_scores_mean + test_scores_std, alpha=0.1, color=\"g\")\n",
        "    plt.plot(train_sizes, train_scores_mean, 'o-', color=\"r\",label=\"Training score\")\n",
        "    plt.plot(train_sizes, test_scores_mean, 'o-', color=\"g\",label=\"Cross-validation score\")\n",
        "                     \n",
        "    plt.legend(loc=\"best\")\n",
        "    return plt"
      ],
      "execution_count": 9,
      "outputs": []
    },
    {
      "cell_type": "markdown",
      "metadata": {
        "id": "eL2OSE2OfoX0"
      },
      "source": [
        "**8.PREDICTION & EVALUATION ON TEST SET**"
      ]
    },
    {
      "cell_type": "code",
      "metadata": {
        "colab": {
          "base_uri": "https://localhost:8080/",
          "height": 1000
        },
        "id": "1g2fXBBIQphH",
        "outputId": "46d83be5-3fa8-4577-a7dd-4b56af7334a2"
      },
      "source": [
        "path = os.path.abspath('vaccine_validation_set.csv')\n",
        "print(\"Uploading dataset...\")\n",
        "\n",
        "dataframe = pd.read_csv(path,header= None, names =[\"Tweet\", \"Label\"]) \n",
        "\n",
        "\n",
        "#processing step\n",
        "dataframe.fillna('NULL', inplace=True)\n",
        "dataframe['Tweet']=dataframe['Tweet'].apply(preprocess_text)\n",
        "dataframe['Tweet']=dataframe['Tweet'].apply(remove_stopwords)\n",
        "    \n",
        "text_test= dataframe['Tweet']\n",
        "X_test= dataframe['Tweet']\n",
        "y_test= dataframe['Label']\n",
        "\n",
        "#vectorize test set\n",
        "vectorizer = pickle.load(open('tfidf_vectorizer.p', 'rb'))\n",
        "x_test = vectorizer.transform(X_test)\n",
        "#x_test= x_test.todense()\n",
        "print(\"Vectorizing is ready!!\")\n",
        "\n",
        "#make predictions\n",
        "predictions = loaded_model.predict(x_test)\n",
        "print(\"Prediction is ready!!\")\n",
        "print(\"---------------------------\")\n",
        "\n",
        "\n",
        "#metrics\n",
        "precision = metrics.precision_score(y_test, predictions, average=\"macro\")\n",
        "print(\"Precision for test set:\\n\", precision)\n",
        "print(\"---------------------------\")\n",
        "\n",
        "    \n",
        "recall = metrics.recall_score(y_test, predictions, average=\"macro\")\n",
        "print(\"Recall for test set:\\n\", recall)\n",
        "print(\"---------------------------\")\n",
        "\n",
        "\n",
        "fscore = metrics.f1_score(y_test, predictions, average=\"macro\")\n",
        "print(\"F1 score for test set:\\n\", fscore)\n",
        "print(\"---------------------------\")\n",
        "\n",
        "\n",
        "acc = metrics.accuracy_score(y_test, predictions)\n",
        "print(\"Accuracy for test set:\\n\", acc)\n",
        "print(\"---------------------------\")\n",
        "\n",
        "\n",
        "#plot classification report from sklearn Library\n",
        "print(classification_report(y_test, predictions))\n",
        "print(\"---------------------------\")\n",
        "\n",
        "\n",
        "#visualize learning curves with 10fold cross validation\n",
        "print(\"Loading for train set...\")\n",
        "Learning_curve_model(x_train,y_train,loaded_model,cv=10)\n",
        "print(\"---------------------------\")\n",
        "\n",
        "#print(\"Loading for test set...\")\n",
        "#Learning_curve_model(x_test,y_test,loaded_model,cv=10)\n",
        "\n",
        "\n",
        "#plot multiclass confusion matrix\n",
        "print(\"Loading for confusion Matrix...\")\n",
        "disp = plot_confusion_matrix(loaded_model, x_test, y_test,\n",
        "                                 display_labels=class_names,\n",
        "                                 cmap=plt.cm.Blues)\n"
      ],
      "execution_count": 10,
      "outputs": [
        {
          "output_type": "stream",
          "name": "stdout",
          "text": [
            "Uploading dataset...\n",
            "Vectorizing is ready!!\n",
            "Prediction is ready!!\n",
            "---------------------------\n",
            "Precision for test set:\n",
            " 0.5529044180976361\n",
            "---------------------------\n",
            "Recall for test set:\n",
            " 0.4926789893187218\n",
            "---------------------------\n",
            "F1 score for test set:\n",
            " 0.5077844124303713\n",
            "---------------------------\n",
            "Accuracy for test set:\n",
            " 0.7367498904949628\n",
            "---------------------------\n",
            "              precision    recall  f1-score   support\n",
            "\n",
            "           0       0.81      0.76      0.79      1065\n",
            "           1       0.73      0.39      0.51       296\n",
            "           2       0.67      0.82      0.74       921\n",
            "       label       0.00      0.00      0.00         1\n",
            "\n",
            "    accuracy                           0.74      2283\n",
            "   macro avg       0.55      0.49      0.51      2283\n",
            "weighted avg       0.74      0.74      0.73      2283\n",
            "\n",
            "---------------------------\n",
            "Loading for train set...\n"
          ]
        },
        {
          "output_type": "stream",
          "name": "stderr",
          "text": [
            "/usr/local/lib/python3.7/dist-packages/sklearn/metrics/_classification.py:1308: UndefinedMetricWarning: Precision is ill-defined and being set to 0.0 in labels with no predicted samples. Use `zero_division` parameter to control this behavior.\n",
            "  _warn_prf(average, modifier, msg_start, len(result))\n",
            "/usr/local/lib/python3.7/dist-packages/sklearn/metrics/_classification.py:1308: UndefinedMetricWarning: Precision and F-score are ill-defined and being set to 0.0 in labels with no predicted samples. Use `zero_division` parameter to control this behavior.\n",
            "  _warn_prf(average, modifier, msg_start, len(result))\n",
            "/usr/local/lib/python3.7/dist-packages/sklearn/metrics/_classification.py:1308: UndefinedMetricWarning: Precision and F-score are ill-defined and being set to 0.0 in labels with no predicted samples. Use `zero_division` parameter to control this behavior.\n",
            "  _warn_prf(average, modifier, msg_start, len(result))\n",
            "/usr/local/lib/python3.7/dist-packages/sklearn/metrics/_classification.py:1308: UndefinedMetricWarning: Precision and F-score are ill-defined and being set to 0.0 in labels with no predicted samples. Use `zero_division` parameter to control this behavior.\n",
            "  _warn_prf(average, modifier, msg_start, len(result))\n",
            "/usr/local/lib/python3.7/dist-packages/sklearn/model_selection/_split.py:680: UserWarning: The least populated class in y has only 1 members, which is less than n_splits=10.\n",
            "  UserWarning,\n"
          ]
        },
        {
          "output_type": "stream",
          "name": "stdout",
          "text": [
            "---------------------------\n",
            "Loading for confusion Matrix...\n"
          ]
        },
        {
          "output_type": "stream",
          "name": "stderr",
          "text": [
            "/usr/local/lib/python3.7/dist-packages/sklearn/utils/deprecation.py:87: FutureWarning: Function plot_confusion_matrix is deprecated; Function `plot_confusion_matrix` is deprecated in 1.0 and will be removed in 1.2. Use one of the class methods: ConfusionMatrixDisplay.from_predictions or ConfusionMatrixDisplay.from_estimator.\n",
            "  warnings.warn(msg, category=FutureWarning)\n"
          ]
        },
        {
          "output_type": "display_data",
          "data": {
            "image/png": "[encoded data removed]",
            "text/plain": [
              "<Figure size 432x288 with 1 Axes>"
            ]
          },
          "metadata": {
            "needs_background": "light"
          }
        },
        {
          "output_type": "display_data",
          "data": {
            "image/png": "[encoded data removed]",
            "text/plain": [
              "<Figure size 432x288 with 2 Axes>"
            ]
          },
          "metadata": {
            "needs_background": "light"
          }
        }
      ]
    }
  ]
}